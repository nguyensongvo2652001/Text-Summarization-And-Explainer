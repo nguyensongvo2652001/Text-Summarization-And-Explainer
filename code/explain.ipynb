{
  "nbformat": 4,
  "nbformat_minor": 0,
  "metadata": {
    "colab": {
      "provenance": []
    },
    "kernelspec": {
      "name": "python3",
      "display_name": "Python 3"
    },
    "language_info": {
      "name": "python"
    }
  },
  "cells": [
    {
      "cell_type": "code",
      "execution_count": 95,
      "metadata": {
        "id": "6mvSAeH6l-9x"
      },
      "outputs": [],
      "source": [
        "import locale\n",
        "\n",
        "# This is to fix a Google Colab error that for some reasons, Google Colab does not set the prefer encoding to UTF-8 initially.\n",
        "def getpreferredencoding(do_setlocale = True):\n",
        "    return \"UTF-8\"\n",
        "locale.getpreferredencoding = getpreferredencoding"
      ]
    },
    {
      "cell_type": "code",
      "source": [
        "!pip install rouge\n",
        "!pip install shap\n",
        "!pip install transformers\n",
        "!pip install spacy\n",
        "!pip install pysummarization"
      ],
      "metadata": {
        "id": "UMdM8CRGmlMN"
      },
      "execution_count": null,
      "outputs": []
    },
    {
      "cell_type": "code",
      "source": [
        "import pandas as pd\n",
        "import numpy as np\n",
        "import tensorflow as tf\n",
        "import random\n",
        "import math \n",
        "import nltk\n",
        "import re \n",
        "import spacy\n",
        "import rouge\n",
        "import shap\n",
        "import nltk\n",
        "import matplotlib.pyplot as plt\n",
        "import graphviz\n",
        "import collections\n",
        "import pydotplus\n",
        "\n",
        "from sklearn.linear_model import LinearRegression\n",
        "from sklearn.preprocessing import MinMaxScaler\n",
        "from sklearn.tree import DecisionTreeClassifier, plot_tree\n",
        "from tensorflow.keras.layers import Input, Embedding, LSTM, Dense, Masking, Reshape, TimeDistributed, Bidirectional, Dropout, Layer\n",
        "from tensorflow.keras.models import Model, clone_model, Sequential\n",
        "from sklearn.model_selection import train_test_split\n",
        "from tensorflow.keras.preprocessing.text import Tokenizer\n",
        "from tensorflow.keras.preprocessing.sequence import pad_sequences\n",
        "from tensorflow.keras.losses import sparse_categorical_crossentropy\n",
        "from nltk.stem import WordNetLemmatizer\n",
        "from rouge import Rouge\n",
        "from tensorflow.keras.models import load_model\n",
        "from keras.regularizers import l2\n",
        "from utils import *\n",
        "from textblob import TextBlob\n",
        "from sklearn.tree import DecisionTreeClassifier, export_graphviz\n",
        "from IPython.display import Image\n"
      ],
      "metadata": {
        "id": "d7kr2Sy-mdfv"
      },
      "execution_count": 64,
      "outputs": []
    },
    {
      "cell_type": "code",
      "source": [
        "def split_text_to_sentences(text):\n",
        "    doc = nlp(text)\n",
        "\n",
        "    sentences = [sentence.text for sentence in doc.sents]\n",
        "\n",
        "    return sentences\n",
        "\n",
        "def clean_text(text):\n",
        "  text = text.strip()\n",
        "  text = text.lower()\n",
        "\n",
        "  lemmatizer = WordNetLemmatizer()\n",
        "  words = text.split()\n",
        "  words = [lemmatizer.lemmatize(word) for word in words]\n",
        "  text = ' '.join(words)\n",
        "\n",
        "  return text\n",
        "\n",
        "def clean_dataset(dataset):\n",
        "    for category in dataset: \n",
        "        df = dataset[category]\n",
        "        df[\"Content\"] = df[\"Content\"].apply(lambda content: clean_text(content))\n",
        "        df[\"Summary\"] = df[\"Summary\"].apply(lambda summary: clean_text(summary))\n",
        "\n",
        "def downsize_dataset(dataset):\n",
        "    for category in dataset:\n",
        "        df = dataset[category]\n",
        "        df = df[df.apply(lambda x: \n",
        "                         len(x['Content'].strip()) <= 4500 and \n",
        "                         len(x['Summary'].strip()) <= 3000, axis=1)]\n",
        "        dataset.update({category: df})"
      ],
      "metadata": {
        "id": "5yvNvaQoOE6C"
      },
      "execution_count": 101,
      "outputs": []
    },
    {
      "cell_type": "code",
      "source": [
        "nltk.download('omw-1.4')\n",
        "nltk.download(\"wordnet\")\n",
        "nltk.download('brown')\n",
        "nltk.download('punkt')\n",
        "nlp = spacy.load(\"en_core_web_sm\")"
      ],
      "metadata": {
        "colab": {
          "base_uri": "https://localhost:8080/"
        },
        "id": "Vy7oy8iUttjp",
        "outputId": "34b1fff0-e004-441c-84d0-8274115272c5"
      },
      "execution_count": 61,
      "outputs": [
        {
          "output_type": "stream",
          "name": "stderr",
          "text": [
            "[nltk_data] Downloading package omw-1.4 to /root/nltk_data...\n",
            "[nltk_data]   Package omw-1.4 is already up-to-date!\n",
            "[nltk_data] Downloading package wordnet to /root/nltk_data...\n",
            "[nltk_data]   Package wordnet is already up-to-date!\n",
            "[nltk_data] Downloading package brown to /root/nltk_data...\n",
            "[nltk_data]   Unzipping corpora/brown.zip.\n",
            "[nltk_data] Downloading package punkt to /root/nltk_data...\n",
            "[nltk_data]   Unzipping tokenizers/punkt.zip.\n"
          ]
        },
        {
          "output_type": "execute_result",
          "data": {
            "text/plain": [
              "True"
            ]
          },
          "metadata": {},
          "execution_count": 61
        }
      ]
    },
    {
      "cell_type": "code",
      "source": [
        "learning_rate = 0.002\n",
        "num_iterations = 30\n",
        "max_number_of_sentences = 40 \n",
        "max_words_per_sentence = 150\n",
        "lstm_size = 128\n",
        "vocab_size = 10000\n",
        "batch_size = 32\n",
        "test_size = 0.33 \n",
        "threshold = 0.5\n",
        "l2_regulizer = 0.15"
      ],
      "metadata": {
        "id": "TNIzHkQoO0k5"
      },
      "execution_count": 102,
      "outputs": []
    },
    {
      "cell_type": "code",
      "source": [
        "business_pickle = \"train_df_label_business.pickle\"\n",
        "entertainment_pickle = \"train_df_label_entertainment.pickle\"\n",
        "politics_pickle = \"train_df_label_politics.pickle\"\n",
        "sport_pickle = \"train_df_label_sport.pickle\"\n",
        "tech_pickle = \"train_df_label_tech.pickle\""
      ],
      "metadata": {
        "id": "8p4v1WBRnRq5"
      },
      "execution_count": 18,
      "outputs": []
    },
    {
      "cell_type": "code",
      "source": [
        "business_dataset = pd.read_pickle(business_pickle)\n",
        "entertainment_dataset = pd.read_pickle(entertainment_pickle)\n",
        "politics_dataset = pd.read_pickle(politics_pickle)\n",
        "sport_dataset = pd.read_pickle(sport_pickle)\n",
        "tech_dataset = pd.read_pickle(tech_pickle)"
      ],
      "metadata": {
        "id": "4huzJBRpnykv"
      },
      "execution_count": 20,
      "outputs": []
    },
    {
      "cell_type": "code",
      "source": [
        "train_business_dataset, test_business_dataset = train_test_split(business_dataset, test_size=test_size, random_state=42)\n",
        "train_entertainment_dataset, test_entertainment_dataset = train_test_split(entertainment_dataset, test_size=test_size, random_state=42)\n",
        "train_politics_dataset, test_politics_dataset = train_test_split(politics_dataset, test_size=test_size, random_state=42)\n",
        "train_sport_dataset, test_sport_dataset = train_test_split(sport_dataset, test_size=test_size, random_state=42)\n",
        "train_tech_dataset, test_tech_dataset = train_test_split(tech_dataset, test_size=test_size, random_state=42)"
      ],
      "metadata": {
        "id": "OBBaxKnjsmQ1"
      },
      "execution_count": 21,
      "outputs": []
    },
    {
      "cell_type": "code",
      "source": [
        "train_dataset = {\n",
        "    \"business\": train_business_dataset, \n",
        "    \"entertainment\": train_entertainment_dataset, \n",
        "    \"politics\": train_politics_dataset, \n",
        "    \"sport\": train_sport_dataset, \n",
        "    \"tech\": train_tech_dataset, \n",
        "}\n",
        "\n",
        "test_dataset = {\n",
        "    \"business\": test_business_dataset, \n",
        "    \"entertainment\": test_entertainment_dataset, \n",
        "    \"politics\": test_politics_dataset, \n",
        "    \"sport\": test_sport_dataset, \n",
        "    \"tech\": test_tech_dataset, \n",
        "}"
      ],
      "metadata": {
        "id": "FvBvyLFRsqEU"
      },
      "execution_count": 22,
      "outputs": []
    },
    {
      "cell_type": "code",
      "source": [
        "downsize_dataset(train_dataset)\n",
        "downsize_dataset(test_dataset)"
      ],
      "metadata": {
        "id": "5hAz_tY6tFWp"
      },
      "execution_count": 24,
      "outputs": []
    },
    {
      "cell_type": "code",
      "source": [
        "clean_dataset(train_dataset)\n",
        "clean_dataset(test_dataset)"
      ],
      "metadata": {
        "colab": {
          "base_uri": "https://localhost:8080/"
        },
        "id": "UpJ1_ACktwQ_",
        "outputId": "be8b915a-c87c-4fc0-c552-ae4c2e9e9119"
      },
      "execution_count": 26,
      "outputs": [
        {
          "output_type": "stream",
          "name": "stderr",
          "text": [
            "\n",
            "A value is trying to be set on a copy of a slice from a DataFrame.\n",
            "Try using .loc[row_indexer,col_indexer] = value instead\n",
            "\n",
            "See the caveats in the documentation: https://pandas.pydata.org/pandas-docs/stable/user_guide/indexing.html#returning-a-view-versus-a-copy\n",
            "\n",
            "A value is trying to be set on a copy of a slice from a DataFrame.\n",
            "Try using .loc[row_indexer,col_indexer] = value instead\n",
            "\n",
            "See the caveats in the documentation: https://pandas.pydata.org/pandas-docs/stable/user_guide/indexing.html#returning-a-view-versus-a-copy\n"
          ]
        }
      ]
    },
    {
      "cell_type": "code",
      "source": [
        "def get_tokenizer(texts):\n",
        "    tokenizer = Tokenizer(num_words = 10000)\n",
        "    tokenizer.fit_on_texts(texts)\n",
        "    return tokenizer"
      ],
      "metadata": {
        "id": "2-WYYsGruUSd"
      },
      "execution_count": 29,
      "outputs": []
    },
    {
      "cell_type": "code",
      "source": [
        "all_texts = []\n",
        "for category in train_dataset.keys():\n",
        "    for text in train_dataset[category][\"Content\"]:\n",
        "        all_texts.append(text) \n",
        "            \n",
        "    for text in train_dataset[category][\"Summary\"]:\n",
        "        all_texts.append(text)\n",
        "\n",
        "tokenizer = get_tokenizer(all_texts)"
      ],
      "metadata": {
        "id": "BEboyF3Yt8X-"
      },
      "execution_count": 30,
      "outputs": []
    },
    {
      "cell_type": "code",
      "source": [
        "model = load_model(\"model.h5\")"
      ],
      "metadata": {
        "colab": {
          "base_uri": "https://localhost:8080/"
        },
        "id": "6wx3MC23vcXm",
        "outputId": "1f31190c-05e9-43c4-81f0-f152f8df9a6e"
      },
      "execution_count": 31,
      "outputs": [
        {
          "output_type": "stream",
          "name": "stderr",
          "text": [
            "WARNING:tensorflow:No training configuration found in the save file, so the model was *not* compiled. Compile it manually.\n"
          ]
        }
      ]
    },
    {
      "cell_type": "code",
      "source": [
        "model.summary()"
      ],
      "metadata": {
        "colab": {
          "base_uri": "https://localhost:8080/"
        },
        "id": "6aWabFmhwTE7",
        "outputId": "8c9602eb-7024-4397-b481-a8453d222092"
      },
      "execution_count": 32,
      "outputs": [
        {
          "output_type": "stream",
          "name": "stdout",
          "text": [
            "Model: \"sequential\"\n",
            "_________________________________________________________________\n",
            " Layer (type)                Output Shape              Param #   \n",
            "=================================================================\n",
            " bidirectional (Bidirectiona  (None, 40, 256)          285696    \n",
            " l)                                                              \n",
            "                                                                 \n",
            " dense (Dense)               (None, 40, 1)             257       \n",
            "                                                                 \n",
            "=================================================================\n",
            "Total params: 285,953\n",
            "Trainable params: 285,953\n",
            "Non-trainable params: 0\n",
            "_________________________________________________________________\n"
          ]
        }
      ]
    },
    {
      "cell_type": "code",
      "source": [
        "def convert_texts_to_vectors_of_sequences(texts, max_number_of_sentences, max_words_per_sentence, tokenizer):\n",
        "    texts_tokenized = np.zeros((len(texts), max_number_of_sentences, max_words_per_sentence))\n",
        "    \n",
        "    for i, text in enumerate(texts):\n",
        "        sentences = split_text_to_sentences(text)\n",
        "        num_sentences = min(len(sentences), max_number_of_sentences)\n",
        "        for j in range(num_sentences):\n",
        "            sentence = sentences[j].strip()\n",
        "\n",
        "            sentence_words = tokenizer.texts_to_sequences([sentence])[0]\n",
        "\n",
        "            sentence_words = pad_sequences([sentence_words], maxlen=max_words_per_sentence, padding='post', truncating='post')[0]\n",
        "            \n",
        "            texts_tokenized[i, j, :] = sentence_words\n",
        "    \n",
        "        if num_sentences < max_number_of_sentences:\n",
        "            texts_tokenized[i, num_sentences:, :] = np.zeros((max_number_of_sentences - num_sentences , max_words_per_sentence))\n",
        "            \n",
        "    return texts_tokenized\n",
        "\n",
        "def calculate_rouge_score(predicted_summary, reference_summary):\n",
        "    rouge = Rouge()\n",
        "    scores = rouge.get_scores(predicted_summary, reference_summary, avg=True)\n",
        "    return scores['rouge-1']['f']"
      ],
      "metadata": {
        "id": "MZFZhCR0ydLd"
      },
      "execution_count": 46,
      "outputs": []
    },
    {
      "cell_type": "code",
      "source": [
        "# We need to keep track the label of each sentence(chosen or not chosen). However, when processing data, we have to pad empty sentences to the \n",
        "# original text to make sure all texts have the same length so all_labels_without_empty_sentences are the labels (chosen or not chosen) of every sentences\n",
        "# that are not empty sentences whereas all_labels_with_empty_sentences are the labels of every sentences including empty sentences\n",
        "all_non_empty_sentences = []\n",
        "all_labels_without_empty_sentences = []\n",
        "all_labels_with_empty_sentences = []\n",
        "\n",
        "# This list is to store the index of NON-EMPTY sentence in the text. For example: \"Hello world ! My name is John\". \"Hello world\" sentence\n",
        "# index is 0 where \"My name is John\" index is 1. \n",
        "sentence_indexes = []\n",
        "\n",
        "number_of_sentences_processing = 0 \n",
        "\n",
        "number_of_texts = 0\n",
        "\n",
        "sum_rouge_score = 0 "
      ],
      "metadata": {
        "id": "5LMaL34QzEQH"
      },
      "execution_count": 53,
      "outputs": []
    },
    {
      "cell_type": "code",
      "source": [
        "for category in test_dataset.keys():\n",
        "    df = test_dataset[category]\n",
        "\n",
        "    X = convert_texts_to_vectors_of_sequences(df[\"Content\"], max_number_of_sentences, max_words_per_sentence, tokenizer)\n",
        "    y_pred = model.predict(X)\n",
        "    # y_pred will look something like this: [[0.67, 0.52, 0.33, 0.15], [0.23, 0.48, 0.57, 0.1]]. Each 1D array is the text that needs to be\n",
        "    # summarized and each element in that list indicates the probability of that sentence being kept in the final summary.\n",
        "\n",
        "    # chosen_indexes are indexes of the sentences that will be kept in the final summary\n",
        "    chosen_indexes_for_texts = []\n",
        "    for prob_list in y_pred:\n",
        "        chosen_indexes_for_current_text = []\n",
        "\n",
        "        for i, prob in enumerate(prob_list):\n",
        "            cur_label = False\n",
        "\n",
        "            if prob > threshold:\n",
        "               cur_label = True \n",
        "               chosen_indexes_for_current_text.append(i)\n",
        "              \n",
        "            all_labels_with_empty_sentences.append(cur_label)\n",
        "\n",
        "            number_of_sentences_processing += 1 \n",
        "\n",
        "        chosen_indexes_for_texts.append(chosen_indexes_for_current_text)\n",
        "    \n",
        "    for i, chosen_indexes in enumerate(chosen_indexes_for_texts):\n",
        "        sentences = split_text_to_sentences(df[\"Content\"].iloc[i]) # non_empty sentences only\n",
        "        generated_summary = []\n",
        "\n",
        "        for index, sentence in enumerate(sentences):\n",
        "            all_non_empty_sentences.append(sentence)\n",
        "\n",
        "            sentence_indexes.append(index)\n",
        "\n",
        "            cur_label = False \n",
        "            if index in chosen_indexes:\n",
        "                generated_summary.append(sentence)\n",
        "                cur_label = True \n",
        "\n",
        "            all_labels_without_empty_sentences.append(cur_label)\n",
        "\n",
        "        generated_summary = '. '.join(generated_summary)\n",
        "        number_of_texts += 1 \n",
        "        # If the summary is empty we consider the rouge score to be 0 \n",
        "        if len(generated_summary) == 0:\n",
        "            continue\n",
        "\n",
        "        real_summary = df[\"Summary\"].iloc[i]\n",
        "        rouge_score = calculate_rouge_score(generated_summary, real_summary)  \n",
        "        sum_rouge_score += rouge_score \n",
        "\n",
        "print(sum_rouge_score / number_of_texts)\n",
        "print(len(all_labels_with_empty_sentences), len(all_labels_without_empty_sentences))\n",
        "        "
      ],
      "metadata": {
        "colab": {
          "base_uri": "https://localhost:8080/"
        },
        "id": "t97w-e4Lw29u",
        "outputId": "8661bb67-3393-4584-be60-63ec4f182f62"
      },
      "execution_count": 54,
      "outputs": [
        {
          "output_type": "stream",
          "name": "stdout",
          "text": [
            "6/6 [==============================] - 0s 34ms/step\n",
            "4/4 [==============================] - 0s 39ms/step\n",
            "5/5 [==============================] - 0s 32ms/step\n",
            "6/6 [==============================] - 0s 36ms/step\n",
            "4/4 [==============================] - 0s 38ms/step\n",
            "0.5376955916925653\n",
            "28080 11870\n"
          ]
        }
      ]
    },
    {
      "cell_type": "code",
      "source": [
        "def get_key_phrases(text):\n",
        "    blob = TextBlob(text)\n",
        "\n",
        "    phrases = blob.noun_phrases\n",
        "\n",
        "    return list(phrases)"
      ],
      "metadata": {
        "id": "4dl0YTUa7P8y"
      },
      "execution_count": 55,
      "outputs": []
    },
    {
      "cell_type": "code",
      "source": [
        "def get_sentiment_scores(sentence):\n",
        "    sentiment = TextBlob(sentence).sentiment.polarity\n",
        "    return sentiment"
      ],
      "metadata": {
        "id": "u999mai-92Ra"
      },
      "execution_count": 56,
      "outputs": []
    },
    {
      "cell_type": "code",
      "source": [
        "def count_named_entities(text):\n",
        "    nlp = spacy.load(\"en_core_web_sm\")\n",
        "    doc = nlp(text)\n",
        "    named_entities = set([ent.text for ent in doc.ents if ent.label_ != ''])\n",
        "    return len(named_entities)"
      ],
      "metadata": {
        "id": "EX6sWtYc94PL"
      },
      "execution_count": 57,
      "outputs": []
    },
    {
      "cell_type": "code",
      "source": [
        "def convert_sentence_to_vector_of_features(sentence):\n",
        "    sentence_length = len(sentence)\n",
        "    number_of_words = len(sentence.split(' '))\n",
        "    number_of_phrases = len(get_key_phrases(sentence))\n",
        "    sentiment = get_sentiment_scores(sentence)\n",
        "    number_of_named_entities = count_named_entities(sentence)\n",
        "    \n",
        "    return [sentence_length, number_of_words, number_of_phrases, sentiment, number_of_named_entities] \n"
      ],
      "metadata": {
        "id": "80ezpse996hB"
      },
      "execution_count": 58,
      "outputs": []
    },
    {
      "cell_type": "code",
      "source": [
        "# Convert all_sentences to a list of features\n",
        "X = []\n",
        "for i in range(2000):\n",
        "    sentence = all_non_empty_sentences[i]\n",
        "\n",
        "    features = convert_sentence_to_vector_of_features(sentence)\n",
        "    features.append(sentence_indexes[i]) \n",
        "\n",
        "    X.append(features)"
      ],
      "metadata": {
        "id": "bbyVc2LU-Eq6"
      },
      "execution_count": 62,
      "outputs": []
    },
    {
      "cell_type": "code",
      "source": [
        "scaler = MinMaxScaler()\n",
        "X_normalized = scaler.fit_transform(X)\n",
        "y = all_labels_without_empty_sentences[:len(X)]\n",
        "lr = LinearRegression()\n",
        "lr.fit(X_normalized, y)"
      ],
      "metadata": {
        "colab": {
          "base_uri": "https://localhost:8080/",
          "height": 74
        },
        "id": "gFu0wKGK_DT2",
        "outputId": "298db977-de87-4f97-8de2-6216af77e0e7"
      },
      "execution_count": 65,
      "outputs": [
        {
          "output_type": "execute_result",
          "data": {
            "text/plain": [
              "LinearRegression()"
            ],
            "text/html": [
              "<style>#sk-container-id-1 {color: black;background-color: white;}#sk-container-id-1 pre{padding: 0;}#sk-container-id-1 div.sk-toggleable {background-color: white;}#sk-container-id-1 label.sk-toggleable__label {cursor: pointer;display: block;width: 100%;margin-bottom: 0;padding: 0.3em;box-sizing: border-box;text-align: center;}#sk-container-id-1 label.sk-toggleable__label-arrow:before {content: \"▸\";float: left;margin-right: 0.25em;color: #696969;}#sk-container-id-1 label.sk-toggleable__label-arrow:hover:before {color: black;}#sk-container-id-1 div.sk-estimator:hover label.sk-toggleable__label-arrow:before {color: black;}#sk-container-id-1 div.sk-toggleable__content {max-height: 0;max-width: 0;overflow: hidden;text-align: left;background-color: #f0f8ff;}#sk-container-id-1 div.sk-toggleable__content pre {margin: 0.2em;color: black;border-radius: 0.25em;background-color: #f0f8ff;}#sk-container-id-1 input.sk-toggleable__control:checked~div.sk-toggleable__content {max-height: 200px;max-width: 100%;overflow: auto;}#sk-container-id-1 input.sk-toggleable__control:checked~label.sk-toggleable__label-arrow:before {content: \"▾\";}#sk-container-id-1 div.sk-estimator input.sk-toggleable__control:checked~label.sk-toggleable__label {background-color: #d4ebff;}#sk-container-id-1 div.sk-label input.sk-toggleable__control:checked~label.sk-toggleable__label {background-color: #d4ebff;}#sk-container-id-1 input.sk-hidden--visually {border: 0;clip: rect(1px 1px 1px 1px);clip: rect(1px, 1px, 1px, 1px);height: 1px;margin: -1px;overflow: hidden;padding: 0;position: absolute;width: 1px;}#sk-container-id-1 div.sk-estimator {font-family: monospace;background-color: #f0f8ff;border: 1px dotted black;border-radius: 0.25em;box-sizing: border-box;margin-bottom: 0.5em;}#sk-container-id-1 div.sk-estimator:hover {background-color: #d4ebff;}#sk-container-id-1 div.sk-parallel-item::after {content: \"\";width: 100%;border-bottom: 1px solid gray;flex-grow: 1;}#sk-container-id-1 div.sk-label:hover label.sk-toggleable__label {background-color: #d4ebff;}#sk-container-id-1 div.sk-serial::before {content: \"\";position: absolute;border-left: 1px solid gray;box-sizing: border-box;top: 0;bottom: 0;left: 50%;z-index: 0;}#sk-container-id-1 div.sk-serial {display: flex;flex-direction: column;align-items: center;background-color: white;padding-right: 0.2em;padding-left: 0.2em;position: relative;}#sk-container-id-1 div.sk-item {position: relative;z-index: 1;}#sk-container-id-1 div.sk-parallel {display: flex;align-items: stretch;justify-content: center;background-color: white;position: relative;}#sk-container-id-1 div.sk-item::before, #sk-container-id-1 div.sk-parallel-item::before {content: \"\";position: absolute;border-left: 1px solid gray;box-sizing: border-box;top: 0;bottom: 0;left: 50%;z-index: -1;}#sk-container-id-1 div.sk-parallel-item {display: flex;flex-direction: column;z-index: 1;position: relative;background-color: white;}#sk-container-id-1 div.sk-parallel-item:first-child::after {align-self: flex-end;width: 50%;}#sk-container-id-1 div.sk-parallel-item:last-child::after {align-self: flex-start;width: 50%;}#sk-container-id-1 div.sk-parallel-item:only-child::after {width: 0;}#sk-container-id-1 div.sk-dashed-wrapped {border: 1px dashed gray;margin: 0 0.4em 0.5em 0.4em;box-sizing: border-box;padding-bottom: 0.4em;background-color: white;}#sk-container-id-1 div.sk-label label {font-family: monospace;font-weight: bold;display: inline-block;line-height: 1.2em;}#sk-container-id-1 div.sk-label-container {text-align: center;}#sk-container-id-1 div.sk-container {/* jupyter's `normalize.less` sets `[hidden] { display: none; }` but bootstrap.min.css set `[hidden] { display: none !important; }` so we also need the `!important` here to be able to override the default hidden behavior on the sphinx rendered scikit-learn.org. See: https://github.com/scikit-learn/scikit-learn/issues/21755 */display: inline-block !important;position: relative;}#sk-container-id-1 div.sk-text-repr-fallback {display: none;}</style><div id=\"sk-container-id-1\" class=\"sk-top-container\"><div class=\"sk-text-repr-fallback\"><pre>LinearRegression()</pre><b>In a Jupyter environment, please rerun this cell to show the HTML representation or trust the notebook. <br />On GitHub, the HTML representation is unable to render, please try loading this page with nbviewer.org.</b></div><div class=\"sk-container\" hidden><div class=\"sk-item\"><div class=\"sk-estimator sk-toggleable\"><input class=\"sk-toggleable__control sk-hidden--visually\" id=\"sk-estimator-id-1\" type=\"checkbox\" checked><label for=\"sk-estimator-id-1\" class=\"sk-toggleable__label sk-toggleable__label-arrow\">LinearRegression</label><div class=\"sk-toggleable__content\"><pre>LinearRegression()</pre></div></div></div></div></div>"
            ]
          },
          "metadata": {},
          "execution_count": 65
        }
      ]
    },
    {
      "cell_type": "code",
      "source": [
        "import matplotlib.pyplot as plt\n",
        "import numpy as np\n",
        "\n",
        "feature_names = ['Sentence Length', 'Number of Words', 'Number of Phrases', 'Sentiment', 'Number of Named Entities', 'Sentence Positions']\n",
        "feature_values = lr.coef_\n",
        "\n",
        "colors = ['#4dabf7' if val > 0 else '#fa5252' for val in feature_values]\n",
        "\n",
        "fig, ax = plt.subplots()\n",
        "ax.barh(feature_names, feature_values, color=colors)\n",
        "\n",
        "ax.set_title(\"Feature Coefficient\")\n",
        "ax.set_xlabel(\"Values\")\n",
        "ax.set_ylabel(\"Features\")\n",
        "\n",
        "plt.show()\n"
      ],
      "metadata": {
        "colab": {
          "base_uri": "https://localhost:8080/",
          "height": 472
        },
        "id": "Nig_yMcW_PPm",
        "outputId": "ca449824-fb51-40bd-b318-f440da7d03b4"
      },
      "execution_count": 66,
      "outputs": [
        {
          "output_type": "display_data",
          "data": {
            "text/plain": [
              "<Figure size 640x480 with 1 Axes>"
            ],
            "image/png": "[encoded data removed]"
          },
          "metadata": {}
        }
      ]
    },
    {
      "cell_type": "code",
      "source": [
        "clf = DecisionTreeClassifier(max_depth=8, max_leaf_nodes=8)\n",
        "\n",
        "feature_names = [\"sentence length\", \"number of words\", \"number of phrases\", \"sentiment\", \"number of named entities\", \"sentence position\"]\n",
        "class_names = [\"not chosen\", \"chosen\"]\n",
        "clf.fit(X, y)"
      ],
      "metadata": {
        "colab": {
          "base_uri": "https://localhost:8080/",
          "height": 74
        },
        "id": "YrabaDEY_xxI",
        "outputId": "1809daa9-a89a-4f26-835e-d1c0255bfe35"
      },
      "execution_count": 67,
      "outputs": [
        {
          "output_type": "execute_result",
          "data": {
            "text/plain": [
              "DecisionTreeClassifier(max_depth=8, max_leaf_nodes=8)"
            ],
            "text/html": [
              "<style>#sk-container-id-2 {color: black;background-color: white;}#sk-container-id-2 pre{padding: 0;}#sk-container-id-2 div.sk-toggleable {background-color: white;}#sk-container-id-2 label.sk-toggleable__label {cursor: pointer;display: block;width: 100%;margin-bottom: 0;padding: 0.3em;box-sizing: border-box;text-align: center;}#sk-container-id-2 label.sk-toggleable__label-arrow:before {content: \"▸\";float: left;margin-right: 0.25em;color: #696969;}#sk-container-id-2 label.sk-toggleable__label-arrow:hover:before {color: black;}#sk-container-id-2 div.sk-estimator:hover label.sk-toggleable__label-arrow:before {color: black;}#sk-container-id-2 div.sk-toggleable__content {max-height: 0;max-width: 0;overflow: hidden;text-align: left;background-color: #f0f8ff;}#sk-container-id-2 div.sk-toggleable__content pre {margin: 0.2em;color: black;border-radius: 0.25em;background-color: #f0f8ff;}#sk-container-id-2 input.sk-toggleable__control:checked~div.sk-toggleable__content {max-height: 200px;max-width: 100%;overflow: auto;}#sk-container-id-2 input.sk-toggleable__control:checked~label.sk-toggleable__label-arrow:before {content: \"▾\";}#sk-container-id-2 div.sk-estimator input.sk-toggleable__control:checked~label.sk-toggleable__label {background-color: #d4ebff;}#sk-container-id-2 div.sk-label input.sk-toggleable__control:checked~label.sk-toggleable__label {background-color: #d4ebff;}#sk-container-id-2 input.sk-hidden--visually {border: 0;clip: rect(1px 1px 1px 1px);clip: rect(1px, 1px, 1px, 1px);height: 1px;margin: -1px;overflow: hidden;padding: 0;position: absolute;width: 1px;}#sk-container-id-2 div.sk-estimator {font-family: monospace;background-color: #f0f8ff;border: 1px dotted black;border-radius: 0.25em;box-sizing: border-box;margin-bottom: 0.5em;}#sk-container-id-2 div.sk-estimator:hover {background-color: #d4ebff;}#sk-container-id-2 div.sk-parallel-item::after {content: \"\";width: 100%;border-bottom: 1px solid gray;flex-grow: 1;}#sk-container-id-2 div.sk-label:hover label.sk-toggleable__label {background-color: #d4ebff;}#sk-container-id-2 div.sk-serial::before {content: \"\";position: absolute;border-left: 1px solid gray;box-sizing: border-box;top: 0;bottom: 0;left: 50%;z-index: 0;}#sk-container-id-2 div.sk-serial {display: flex;flex-direction: column;align-items: center;background-color: white;padding-right: 0.2em;padding-left: 0.2em;position: relative;}#sk-container-id-2 div.sk-item {position: relative;z-index: 1;}#sk-container-id-2 div.sk-parallel {display: flex;align-items: stretch;justify-content: center;background-color: white;position: relative;}#sk-container-id-2 div.sk-item::before, #sk-container-id-2 div.sk-parallel-item::before {content: \"\";position: absolute;border-left: 1px solid gray;box-sizing: border-box;top: 0;bottom: 0;left: 50%;z-index: -1;}#sk-container-id-2 div.sk-parallel-item {display: flex;flex-direction: column;z-index: 1;position: relative;background-color: white;}#sk-container-id-2 div.sk-parallel-item:first-child::after {align-self: flex-end;width: 50%;}#sk-container-id-2 div.sk-parallel-item:last-child::after {align-self: flex-start;width: 50%;}#sk-container-id-2 div.sk-parallel-item:only-child::after {width: 0;}#sk-container-id-2 div.sk-dashed-wrapped {border: 1px dashed gray;margin: 0 0.4em 0.5em 0.4em;box-sizing: border-box;padding-bottom: 0.4em;background-color: white;}#sk-container-id-2 div.sk-label label {font-family: monospace;font-weight: bold;display: inline-block;line-height: 1.2em;}#sk-container-id-2 div.sk-label-container {text-align: center;}#sk-container-id-2 div.sk-container {/* jupyter's `normalize.less` sets `[hidden] { display: none; }` but bootstrap.min.css set `[hidden] { display: none !important; }` so we also need the `!important` here to be able to override the default hidden behavior on the sphinx rendered scikit-learn.org. See: https://github.com/scikit-learn/scikit-learn/issues/21755 */display: inline-block !important;position: relative;}#sk-container-id-2 div.sk-text-repr-fallback {display: none;}</style><div id=\"sk-container-id-2\" class=\"sk-top-container\"><div class=\"sk-text-repr-fallback\"><pre>DecisionTreeClassifier(max_depth=8, max_leaf_nodes=8)</pre><b>In a Jupyter environment, please rerun this cell to show the HTML representation or trust the notebook. <br />On GitHub, the HTML representation is unable to render, please try loading this page with nbviewer.org.</b></div><div class=\"sk-container\" hidden><div class=\"sk-item\"><div class=\"sk-estimator sk-toggleable\"><input class=\"sk-toggleable__control sk-hidden--visually\" id=\"sk-estimator-id-2\" type=\"checkbox\" checked><label for=\"sk-estimator-id-2\" class=\"sk-toggleable__label sk-toggleable__label-arrow\">DecisionTreeClassifier</label><div class=\"sk-toggleable__content\"><pre>DecisionTreeClassifier(max_depth=8, max_leaf_nodes=8)</pre></div></div></div></div></div>"
            ]
          },
          "metadata": {},
          "execution_count": 67
        }
      ]
    },
    {
      "cell_type": "code",
      "source": [
        "#Code to draw the decision tree \n",
        "\n",
        "dot_data = export_graphviz(clf, out_file=None, \n",
        "                           feature_names=feature_names,  \n",
        "                           class_names=class_names,  \n",
        "                           filled=True, rounded=True,  \n",
        "                           special_characters=True)  \n",
        "graph = pydotplus.graph_from_dot_data(dot_data) \n",
        "\n",
        "colors = ('#ff8787', '#69db7c')\n",
        "edges = collections.defaultdict(list)\n",
        "\n",
        "for edge in graph.get_edge_list():\n",
        "    edges[edge.get_source()].append(int(edge.get_destination()))\n",
        "\n",
        "for edge in edges:\n",
        "    edges[edge].sort()    \n",
        "    for i in range(2):\n",
        "        dest = graph.get_node(str(edges[edge][i]))[0]\n",
        "        label = dest.get_label()\n",
        "        if label is not None:\n",
        "          class_name = label.split('class = ')[1].split('\\\\n')[0][:-1]\n",
        "          if class_name == class_names[0]: \n",
        "             dest.set_fillcolor(colors[0])\n",
        "          else:\n",
        "             dest.set_fillcolor(colors[1])\n",
        "\n",
        "graph.write_png('tree.png')"
      ],
      "metadata": {
        "colab": {
          "base_uri": "https://localhost:8080/"
        },
        "id": "WUFxtEMCAQHm",
        "outputId": "a9b46d8e-729c-451d-a207-d9262aed936e"
      },
      "execution_count": 68,
      "outputs": [
        {
          "output_type": "execute_result",
          "data": {
            "text/plain": [
              "True"
            ]
          },
          "metadata": {},
          "execution_count": 68
        }
      ]
    },
    {
      "cell_type": "code",
      "source": [
        "def rearrange_sentences(text):\n",
        "    sentences = split_text_to_sentences(text)\n",
        "    \n",
        "    sentences = [s.strip() for s in sentences]\n",
        "    \n",
        "    shuffled_sentences = random.sample(sentences, len(sentences))\n",
        "    \n",
        "    original_sentence_indexes = {}\n",
        "    for i, sentence in enumerate(shuffled_sentences):\n",
        "        original_sentence_indexes[i] = sentences.index(sentence)\n",
        "    \n",
        "    new_text = \". \".join(shuffled_sentences)\n",
        "    \n",
        "    return new_text, original_sentence_indexes"
      ],
      "metadata": {
        "id": "qOHy9cvAA7eQ"
      },
      "execution_count": 69,
      "outputs": []
    },
    {
      "cell_type": "code",
      "source": [
        "def replace_phrases(text, phrases):\n",
        "    # Phrases that have been shuffled will not be shuffled again.\n",
        "    available_phrases = phrases[:]\n",
        "\n",
        "    for phrase in phrases:\n",
        "        if phrase not in available_phrases: continue\n",
        "\n",
        "        random_phrase = random.sample(available_phrases, len(available_phrases)).pop(0)\n",
        "\n",
        "        old_phrase = phrase \n",
        "        new_phrase = random_phrase \n",
        "\n",
        "        new_text = text.replace(old_phrase, \"temp\")\n",
        "        new_text = new_text.replace(new_phrase, old_phrase)\n",
        "        new_text = new_text.replace(\"temp\", new_phrase)\n",
        "\n",
        "        text = new_text\n",
        "\n",
        "        # old_phrase and new_phrase might be the same\n",
        "        if old_phrase in available_phrases:\n",
        "          available_phrases.remove(old_phrase)\n",
        "        \n",
        "        if new_phrase in available_phrases:\n",
        "          available_phrases.remove(new_phrase)\n",
        "\n",
        "    return text\n",
        "\n",
        "text = \"I am an iphone researcher from the United States. I am here to introduce you about our new Mac Mini. It is much better than Microsoft computer\"\n",
        "phrases = [\"iphone researcher\", \"United States\", \"Mac Mini\", \"Microsoft computer\"]\n",
        "new_text = replace_phrases(text, phrases)\n",
        "print(new_text)"
      ],
      "metadata": {
        "colab": {
          "base_uri": "https://localhost:8080/"
        },
        "id": "GZQM9by-BXA4",
        "outputId": "d8c7ebee-f7ba-4e40-8acb-5566da9ed410"
      },
      "execution_count": 73,
      "outputs": [
        {
          "output_type": "stream",
          "name": "stdout",
          "text": [
            "I am an iphone researcher from the Microsoft computer. I am here to introduce you about our new Mac Mini. It is much better than United States\n"
          ]
        }
      ]
    },
    {
      "cell_type": "code",
      "source": [
        "# Shufle phrases in the sentences and see the result \n",
        "sum_rouge_score = 0 \n",
        "number_of_processing_sentences = 0 \n",
        "number_of_correct_sentences = 0 #Correct here meaning that the new label is still the same as the old label \n",
        "\n",
        "for category in test_dataset.keys():\n",
        "    df = test_dataset[category]\n",
        "\n",
        "    # Shuffle phrases in the original text first \n",
        "    new_contents = []\n",
        "    for content in df[\"Content\"]:\n",
        "      phrases = get_key_phrases(content)\n",
        "      new_content = replace_phrases(content, phrases)\n",
        "      new_contents.append(new_content) \n",
        "    \n",
        "    X = convert_texts_to_vectors_of_sequences(new_contents, max_number_of_sentences, max_words_per_sentence, tokenizer)\n",
        "    y_pred = model.predict(X)\n",
        "\n",
        "    for i, prob_list in enumerate(y_pred):\n",
        "        for j, prob in enumerate(prob_list):\n",
        "            new_label = False \n",
        "\n",
        "            if prob > threshold:\n",
        "              new_label = True \n",
        "            \n",
        "            old_label = all_labels_with_empty_sentences[number_of_processing_sentences]\n",
        "            number_of_correct_sentences += (old_label == new_label)\n",
        "            number_of_processing_sentences += 1 \n",
        "\n",
        "print(number_of_correct_sentences / number_of_processing_sentences)"
      ],
      "metadata": {
        "colab": {
          "base_uri": "https://localhost:8080/"
        },
        "id": "9X5_GA_lEEH4",
        "outputId": "4b271d45-30dc-4473-f317-9c5abfef0455"
      },
      "execution_count": 74,
      "outputs": [
        {
          "output_type": "stream",
          "name": "stdout",
          "text": [
            "6/6 [==============================] - 0s 69ms/step\n",
            "4/4 [==============================] - 0s 39ms/step\n",
            "5/5 [==============================] - 0s 33ms/step\n",
            "6/6 [==============================] - 0s 34ms/step\n",
            "4/4 [==============================] - 0s 34ms/step\n",
            "0.8476495726495726\n"
          ]
        }
      ]
    },
    {
      "cell_type": "code",
      "source": [
        "# Rearrange sentences and see the result \n",
        "sum_rouge_score = 0 \n",
        "number_of_correct_sentences = 0 # Correct here meaning that the new label is still the same as the old label \n",
        "all_new_labels_without_empty_sentences = []\n",
        "\n",
        "for category in test_dataset.keys():\n",
        "    df = test_dataset[category]\n",
        "\n",
        "    # Rearrange the content and keep the original_indexes\n",
        "    new_contents = []\n",
        "    original_indexes_list = []\n",
        "    for content in df[\"Content\"]:\n",
        "      new_content, original_indexes = rearrange_sentences(content)\n",
        "      new_contents.append(new_content) \n",
        "      original_indexes_list.append(original_indexes)\n",
        "\n",
        "    X = convert_texts_to_vectors_of_sequences(new_contents, max_number_of_sentences, max_words_per_sentence, tokenizer)\n",
        "    y_pred = model.predict(X)\n",
        "\n",
        "    for i, prob_list in enumerate(y_pred):\n",
        "        new_labels = [False for _ in range(len(original_indexes_list[i]))] \n",
        "\n",
        "        for j, prob in enumerate(prob_list):\n",
        "            if (j + 1 ) not in original_indexes_list[i]: continue \n",
        "\n",
        "            if prob > threshold:\n",
        "               original_index = original_indexes_list[i][j + 1]\n",
        "               new_labels[original_index] = True \n",
        "\n",
        "        all_new_labels_without_empty_sentences += new_labels\n",
        "\n",
        "for i, new_label in enumerate(all_new_labels_without_empty_sentences):\n",
        "    old_label = all_labels_without_empty_sentences[i]\n",
        "    number_of_correct_sentences += (new_label == old_label)\n",
        "\n",
        "number_of_sentences = len(all_labels_without_empty_sentences)\n",
        "print(number_of_correct_sentences / number_of_sentences)\n",
        "    \n",
        "        "
      ],
      "metadata": {
        "colab": {
          "base_uri": "https://localhost:8080/"
        },
        "id": "0FgqxCO5Ffdt",
        "outputId": "16565529-7bd1-4bcf-eeae-3bb49c336327"
      },
      "execution_count": 77,
      "outputs": [
        {
          "output_type": "stream",
          "name": "stdout",
          "text": [
            "6/6 [==============================] - 0s 51ms/step\n",
            "4/4 [==============================] - 0s 37ms/step\n",
            "5/5 [==============================] - 0s 33ms/step\n",
            "6/6 [==============================] - 0s 66ms/step\n",
            "4/4 [==============================] - 0s 36ms/step\n",
            "0.6184498736310026\n"
          ]
        }
      ]
    },
    {
      "cell_type": "code",
      "source": [
        "# This text will be used by SHAP to explain\n",
        "df = test_dataset[\"tech\"]\n",
        "text = df[\"Content\"].iloc[44]\n",
        "text\n",
        "X = convert_texts_to_vectors_of_sequences([text], max_number_of_sentences, max_words_per_sentence, tokenizer)[0]\n",
        "y_pred = generate_prob_for_each_sentences(X)"
      ],
      "metadata": {
        "colab": {
          "base_uri": "https://localhost:8080/"
        },
        "id": "xnYtXmSPIRz3",
        "outputId": "1f985955-7f20-402d-bf23-ff22ed3a13cd"
      },
      "execution_count": 91,
      "outputs": [
        {
          "output_type": "stream",
          "name": "stdout",
          "text": [
            "1/1 [==============================] - 0s 36ms/step\n"
          ]
        }
      ]
    },
    {
      "cell_type": "code",
      "source": [
        "# We will use predicted_summary later\n",
        "predicted_summary = []\n",
        "chosen_indexes = []\n",
        "sentences = split_text_to_sentences(text)\n",
        "for j, prob in enumerate(y_pred):\n",
        "    if prob > threshold and j < len(sentences):\n",
        "        chosen_indexes.append(j)\n",
        "        predicted_summary.append(sentences[j])\n",
        "\n",
        "predicted_summary = '.'.join(predicted_summary)"
      ],
      "metadata": {
        "id": "P70EDgNwM89b"
      },
      "execution_count": 92,
      "outputs": []
    },
    {
      "cell_type": "code",
      "source": [
        "index_word = {v: k for k, v in tokenizer.word_index.items()}"
      ],
      "metadata": {
        "id": "KesYmJIsMVFY"
      },
      "execution_count": null,
      "outputs": []
    },
    {
      "cell_type": "code",
      "source": [
        "X_original = []\n",
        "for sequence in X: \n",
        "    sentence = []\n",
        "    for index in sequence:\n",
        "        if index in index_word:\n",
        "            word = index_word[index]\n",
        "            sentence.append(word)\n",
        "        else:\n",
        "            sentence.append('')\n",
        "    X_original.append(sentence)"
      ],
      "metadata": {
        "id": "21t3bVMlMOTP"
      },
      "execution_count": 86,
      "outputs": []
    },
    {
      "cell_type": "code",
      "source": [
        "X_original"
      ],
      "metadata": {
        "id": "eL5TQVxeMP_k"
      },
      "execution_count": null,
      "outputs": []
    },
    {
      "cell_type": "code",
      "source": [
        "def generate_prob_for_each_sentences(X):\n",
        "    x1, x2 = X.shape\n",
        "    y_pred = model.predict(X.reshape(1, x1, x2))\n",
        "    y_pred = np.squeeze(y_pred, axis=2)\n",
        "    return y_pred[0]"
      ],
      "metadata": {
        "id": "WbbK_5S6IS85"
      },
      "execution_count": 79,
      "outputs": []
    },
    {
      "cell_type": "code",
      "source": [
        "baseline = np.zeros((max_number_of_sentences, max_words_per_sentence))"
      ],
      "metadata": {
        "id": "eCOPlJc9IWrC"
      },
      "execution_count": 81,
      "outputs": []
    },
    {
      "cell_type": "code",
      "source": [
        "explainer = shap.KernelExplainer(generate_prob_for_each_sentences, baseline)"
      ],
      "metadata": {
        "colab": {
          "base_uri": "https://localhost:8080/"
        },
        "id": "vVlZn3iqId0t",
        "outputId": "4bb42f3b-ead3-42a0-8d76-9a1bbccefefd"
      },
      "execution_count": 82,
      "outputs": [
        {
          "output_type": "stream",
          "name": "stdout",
          "text": [
            "1/1 [==============================] - 0s 26ms/step\n"
          ]
        }
      ]
    },
    {
      "cell_type": "code",
      "source": [
        "shap_values = explainer.shap_values(X)"
      ],
      "metadata": {
        "id": "QcY_tmGRIhbt"
      },
      "execution_count": null,
      "outputs": []
    },
    {
      "cell_type": "code",
      "source": [
        "key_phrases = get_key_phrases(text)\n",
        "min_phrase_length = 1e9 \n",
        "max_phrase_length = 0 \n",
        "\n",
        "for phrase in key_phrases:\n",
        "    min_phrase_length = min(min_phrase_length, len(phrase.split()))\n",
        "    max_phrase_length = max(max_phrase_length, len(phrase.split()))\n"
      ],
      "metadata": {
        "id": "9MM4HZU5Mrzg"
      },
      "execution_count": 88,
      "outputs": []
    },
    {
      "cell_type": "code",
      "source": [
        "sum_phrases_shap_values = dict() # The total shapley value of each phrases in the text.\n",
        "\n",
        "for i, sentence in enumerate(X_original):\n",
        "    for phrase_length in range(min_phrase_length, max_phrase_length + 1):\n",
        "        for j in range(0, len(sentence) - phrase_length + 1):\n",
        "            phrase_shap_value = 0\n",
        "            phrase = []\n",
        "            for k in range(j, j + phrase_length):\n",
        "                phrase.append(X_original[i][k])\n",
        "                phrase_shap_value += shap_values[i][k]\n",
        "            phrase = \" \".join(phrase) \n",
        "            if phrase not in sum_phrases_shap_values:\n",
        "               sum_phrases_shap_values[phrase] = (0, 0)\n",
        "            \n",
        "            cur_sum, cur_count = sum_phrases_shap_values[phrase]\n",
        "            cur_sum += phrase_shap_value \n",
        "            cur_count += 1 \n",
        "            sum_phrases_shap_values[phrase] = (cur_sum, cur_count)\n"
      ],
      "metadata": {
        "id": "sIwf-oAJJhm2"
      },
      "execution_count": 89,
      "outputs": []
    },
    {
      "cell_type": "code",
      "source": [
        "avg_key_phrases_shap_values = dict()\n",
        "key_phrase_count = dict()\n",
        "\n",
        "for phrase in sum_phrases_shap_values:\n",
        "    if phrase == '' or phrase == ' ': continue\n",
        "    if len(phrase) >= 2 and (phrase not in key_phrases or phrase not in predicted_summary):\n",
        "        continue\n",
        "    sum, count = sum_phrases_shap_values[phrase]\n",
        "    avg_key_phrases_shap_values[phrase] = sum / count \n",
        "    key_phrase_count[phrase] = count"
      ],
      "metadata": {
        "id": "HDQrRm36M2gH"
      },
      "execution_count": 93,
      "outputs": []
    },
    {
      "cell_type": "code",
      "source": [
        "import matplotlib\n",
        "import matplotlib.font_manager as fm\n",
        "\n",
        "# Download the font file\n",
        "!wget \"https://fonts.google.com/download?family=Poppins\" -O poppins.zip\n",
        "!unzip poppins.zip -d poppins\n",
        "\n",
        "# Register the font\n",
        "fm.fontManager.addfont('poppins/Poppins-Regular.ttf')\n",
        "\n",
        "# set Poppins as the default font for all plots\n",
        "matplotlib.rcParams['font.family'] = 'Poppins'"
      ],
      "metadata": {
        "colab": {
          "base_uri": "https://localhost:8080/"
        },
        "id": "m7MG9VxmNMZe",
        "outputId": "49bf545c-24e3-4c29-a50c-2befb9f3f808"
      },
      "execution_count": 96,
      "outputs": [
        {
          "output_type": "stream",
          "name": "stdout",
          "text": [
            "--2023-04-14 05:17:58--  https://fonts.google.com/download?family=Poppins\n",
            "Resolving fonts.google.com (fonts.google.com)... 108.177.13.138, 108.177.13.101, 108.177.13.113, ...\n",
            "Connecting to fonts.google.com (fonts.google.com)|108.177.13.138|:443... connected.\n",
            "HTTP request sent, awaiting response... 200 OK\n",
            "Length: unspecified [application/zip]\n",
            "Saving to: ‘poppins.zip’\n",
            "\n",
            "poppins.zip             [ <=>                ]   1.29M  --.-KB/s    in 0.06s   \n",
            "\n",
            "2023-04-14 05:17:58 (21.3 MB/s) - ‘poppins.zip’ saved [1351005]\n",
            "\n",
            "Archive:  poppins.zip\n",
            "  inflating: poppins/OFL.txt         \n",
            "  inflating: poppins/Poppins-Thin.ttf  \n",
            "  inflating: poppins/Poppins-ThinItalic.ttf  \n",
            "  inflating: poppins/Poppins-ExtraLight.ttf  \n",
            "  inflating: poppins/Poppins-ExtraLightItalic.ttf  \n",
            "  inflating: poppins/Poppins-Light.ttf  \n",
            "  inflating: poppins/Poppins-LightItalic.ttf  \n",
            "  inflating: poppins/Poppins-Regular.ttf  \n",
            "  inflating: poppins/Poppins-Italic.ttf  \n",
            "  inflating: poppins/Poppins-Medium.ttf  \n",
            "  inflating: poppins/Poppins-MediumItalic.ttf  \n",
            "  inflating: poppins/Poppins-SemiBold.ttf  \n",
            "  inflating: poppins/Poppins-SemiBoldItalic.ttf  \n",
            "  inflating: poppins/Poppins-Bold.ttf  \n",
            "  inflating: poppins/Poppins-BoldItalic.ttf  \n",
            "  inflating: poppins/Poppins-ExtraBold.ttf  \n",
            "  inflating: poppins/Poppins-ExtraBoldItalic.ttf  \n",
            "  inflating: poppins/Poppins-Black.ttf  \n",
            "  inflating: poppins/Poppins-BlackItalic.ttf  \n"
          ]
        }
      ]
    },
    {
      "cell_type": "code",
      "source": [
        "# Draw the top 10 phrases with highest shap value\n",
        "import matplotlib.pyplot as plt\n",
        "\n",
        "top_phrases = sorted(avg_key_phrases_shap_values.items(), key=lambda x: x[1], reverse=True)[:10]\n",
        "top_phrases = [(phrase, value) for phrase, value in top_phrases if value > 0]\n",
        "top_phrases.reverse() \n",
        "\n",
        "phrases = [w[0] for w in top_phrases ]\n",
        "plotted_phrases_shap_values = [w[1] for w in top_phrases]\n",
        "colors =  ['#4dabf7']*len(top_phrases)\n",
        "\n",
        "fig, ax = plt.subplots(figsize=(8, 6))\n",
        "ax.barh(phrases, plotted_phrases_shap_values, color=colors)\n",
        "\n",
        "ax.set_xlabel('Average SHAP Value')\n",
        "ax.set_title('Top phrases in summary by SHAP Value')\n",
        "fig.set_facecolor('#e9ecef')\n",
        "ax.set_facecolor('#e7f5ff')\n",
        "\n",
        "plt.show()\n"
      ],
      "metadata": {
        "colab": {
          "base_uri": "https://localhost:8080/",
          "height": 564
        },
        "id": "eX7_sDVkNXJ8",
        "outputId": "08b4f6d9-3a6d-4c74-a0e4-c0e656835b6d"
      },
      "execution_count": 97,
      "outputs": [
        {
          "output_type": "display_data",
          "data": {
            "text/plain": [
              "<Figure size 800x600 with 1 Axes>"
            ],
            "image/png": "[encoded data removed]"
          },
          "metadata": {}
        }
      ]
    },
    {
      "cell_type": "code",
      "source": [
        "# Draw the word cloud of phrase with shap value > 0\n",
        "!pip install wordcloud\n",
        "from wordcloud import WordCloud\n",
        "import matplotlib.pyplot as plt\n",
        "\n",
        "sum_shap_values = 0 \n",
        "for shap_value in avg_key_phrases_shap_values.values():\n",
        "    sum_shap_values += shap_value\n",
        "word_freq = dict()\n",
        "for phrase in avg_key_phrases_shap_values: \n",
        "    value = avg_key_phrases_shap_values[phrase]\n",
        "    if value < 0: continue\n",
        "    word_freq[phrase] = value\n",
        "\n",
        "wc = WordCloud(width=800, height=800, background_color='white').generate_from_frequencies(word_freq)\n",
        "\n",
        "plt.figure(figsize=(8, 8), facecolor=None)\n",
        "plt.imshow(wc)\n",
        "plt.axis(\"off\")\n",
        "plt.tight_layout(pad=0)\n",
        "\n",
        "plt.show()\n"
      ],
      "metadata": {
        "colab": {
          "base_uri": "https://localhost:8080/",
          "height": 1000
        },
        "id": "qiDrPuE6Nfd_",
        "outputId": "1d5d0371-01f5-489f-f87c-18c5731244b0"
      },
      "execution_count": 98,
      "outputs": [
        {
          "output_type": "stream",
          "name": "stdout",
          "text": [
            "Looking in indexes: https://pypi.org/simple, https://us-python.pkg.dev/colab-wheels/public/simple/\n",
            "Requirement already satisfied: wordcloud in /usr/local/lib/python3.9/dist-packages (1.8.2.2)\n",
            "Requirement already satisfied: pillow in /usr/local/lib/python3.9/dist-packages (from wordcloud) (8.4.0)\n",
            "Requirement already satisfied: matplotlib in /usr/local/lib/python3.9/dist-packages (from wordcloud) (3.7.1)\n",
            "Requirement already satisfied: numpy>=1.6.1 in /usr/local/lib/python3.9/dist-packages (from wordcloud) (1.22.4)\n",
            "Requirement already satisfied: packaging>=20.0 in /usr/local/lib/python3.9/dist-packages (from matplotlib->wordcloud) (23.0)\n",
            "Requirement already satisfied: pyparsing>=2.3.1 in /usr/local/lib/python3.9/dist-packages (from matplotlib->wordcloud) (3.0.9)\n",
            "Requirement already satisfied: fonttools>=4.22.0 in /usr/local/lib/python3.9/dist-packages (from matplotlib->wordcloud) (4.39.3)\n",
            "Requirement already satisfied: kiwisolver>=1.0.1 in /usr/local/lib/python3.9/dist-packages (from matplotlib->wordcloud) (1.4.4)\n",
            "Requirement already satisfied: cycler>=0.10 in /usr/local/lib/python3.9/dist-packages (from matplotlib->wordcloud) (0.11.0)\n",
            "Requirement already satisfied: python-dateutil>=2.7 in /usr/local/lib/python3.9/dist-packages (from matplotlib->wordcloud) (2.8.2)\n",
            "Requirement already satisfied: importlib-resources>=3.2.0 in /usr/local/lib/python3.9/dist-packages (from matplotlib->wordcloud) (5.12.0)\n",
            "Requirement already satisfied: contourpy>=1.0.1 in /usr/local/lib/python3.9/dist-packages (from matplotlib->wordcloud) (1.0.7)\n",
            "Requirement already satisfied: zipp>=3.1.0 in /usr/local/lib/python3.9/dist-packages (from importlib-resources>=3.2.0->matplotlib->wordcloud) (3.15.0)\n",
            "Requirement already satisfied: six>=1.5 in /usr/local/lib/python3.9/dist-packages (from python-dateutil>=2.7->matplotlib->wordcloud) (1.16.0)\n"
          ]
        },
        {
          "output_type": "display_data",
          "data": {
            "text/plain": [
              "<Figure size 800x800 with 1 Axes>"
            ],
            "image/png": "[encoded data removed]"
          },
          "metadata": {}
        }
      ]
    }
  ]
}